{
 "cells": [
  {
   "cell_type": "markdown",
   "id": "0bd51eb0",
   "metadata": {},
   "source": [
    "## Install Dependencies"
   ]
  },
  {
   "cell_type": "code",
   "execution_count": null,
   "id": "9fd36506",
   "metadata": {},
   "outputs": [],
   "source": [
    "!pip install opencv-python\n",
    "!pip install matplotlib\n",
    "!pip install scipy\n",
    "#!pip list"
   ]
  },
  {
   "cell_type": "markdown",
   "id": "e694e488",
   "metadata": {},
   "source": [
    "# Problem 1"
   ]
  },
  {
   "cell_type": "code",
   "execution_count": null,
   "id": "87dac447",
   "metadata": {},
   "outputs": [],
   "source": [
    "import cv2\n",
    "import numpy as np\n",
    "import matplotlib.pyplot as plt\n",
    "import random\n",
    "import os\n",
    "from scipy import fftpack\n",
    "\n",
    "\n",
    "def show_image(title, image, cmap=None, pause=3):\n",
    "    \"\"\"Display image in non-blocking way for screenshots\"\"\"\n",
    "    plt.figure(figsize=(8, 6))\n",
    "    if cmap:\n",
    "        plt.imshow(image, cmap=cmap)\n",
    "    else:\n",
    "        plt.imshow(cv2.cvtColor(image, cv2.COLOR_BGR2RGB))\n",
    "    plt.title(title)\n",
    "    plt.axis('off')\n",
    "    plt.show(block=False)\n",
    "    plt.pause(pause)\n",
    "    plt.close()\n",
    "\n",
    "def get_image_path(filename):\n",
    "    return os.path.join('images', filename)\n",
    "\n",
    "# =============================================\n",
    "# Problem 1\n",
    "# =============================================\n",
    "def problem1():\n",
    "    print(\"\\n=== PROBLEM 1 SOLUTION ===\")\n",
    "    img_path = get_image_path('tf2_engineer.jpg')\n",
    "    img = cv2.imread(img_path)\n",
    "    if img is None:\n",
    "        print(f\"Error loading {img_path}\")\n",
    "        return\n",
    "    show_image(\"1. Original Image\", img)\n",
    "    height, width = img.shape[:2]\n",
    "    yc, xc = height // 2, width // 2\n",
    "    print(f\"2. Center coordinates (y,x): ({yc}, {xc})\")\n",
    "    print(f\"   Center intensity (BGR): {img[yc, xc]}\")\n",
    "    patch_color = (0xA8, 0x9E, 0x32)\n",
    "    patch_height, patch_width = 30, 40\n",
    "    start_point = (xc - patch_width // 2, yc - patch_height // 2)\n",
    "    end_point = (xc + patch_width // 2, yc + patch_height // 2)\n",
    "    img_patched = img.copy()\n",
    "    cv2.rectangle(img_patched, start_point, end_point, patch_color, -1)\n",
    "    print(f\"4. Patch center intensity: {img_patched[yc, xc]}\")\n",
    "    show_image(\"5. Image with Color Patch\", img_patched)\n",
    "\n",
    "problem1()"
   ]
  }
 ],
 "metadata": {
  "kernelspec": {
   "display_name": "venv",
   "language": "python",
   "name": "python3"
  },
  "language_info": {
   "codemirror_mode": {
    "name": "ipython",
    "version": 3
   },
   "file_extension": ".py",
   "mimetype": "text/x-python",
   "name": "python",
   "nbconvert_exporter": "python",
   "pygments_lexer": "ipython3",
   "version": "3.8.6"
  }
 },
 "nbformat": 4,
 "nbformat_minor": 5
}
